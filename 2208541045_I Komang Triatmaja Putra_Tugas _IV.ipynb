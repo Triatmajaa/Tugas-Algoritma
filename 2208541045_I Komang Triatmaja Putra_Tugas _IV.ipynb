{
  "nbformat": 4,
  "nbformat_minor": 0,
  "metadata": {
    "colab": {
      "provenance": []
    },
    "kernelspec": {
      "name": "python3",
      "display_name": "Python 3"
    },
    "language_info": {
      "name": "python"
    }
  },
  "cells": [
    {
      "cell_type": "markdown",
      "source": [
        "**5.11 while loop**"
      ],
      "metadata": {
        "id": "IA_XEqy-uvrg"
      }
    },
    {
      "cell_type": "code",
      "execution_count": null,
      "metadata": {
        "colab": {
          "base_uri": "https://localhost:8080/"
        },
        "id": "5yxmZWOvihYV",
        "outputId": "13a33dab-642f-470d-a8d5-431c8b28771a"
      },
      "outputs": [
        {
          "output_type": "stream",
          "name": "stdout",
          "text": [
            "angka0dibawah 5\n",
            "angka1dibawah 5\n",
            "angka2dibawah 5\n",
            "angka3dibawah 5\n",
            "angka4dibawah 5\n"
          ]
        }
      ],
      "source": [
        "#contoh percobaan while \n",
        "a = 0\n",
        "while a < 5:\n",
        "  print(\"angka\" + str(a)+\"dibawah 5\")\n",
        "  a += 1\n",
        "  #percobaan while dalam suatu data "
      ]
    },
    {
      "cell_type": "code",
      "source": [
        "a = 0\n",
        "while a < 5:\n",
        "  print(a * '*')\n",
        "  a += 1\n",
        "  #penggunaan format while untuk suatu antrian data"
      ],
      "metadata": {
        "colab": {
          "base_uri": "https://localhost:8080/"
        },
        "id": "W2YpSI6ovJCv",
        "outputId": "a17d7ac7-899c-49b8-dfac-30e42d7a5153"
      },
      "execution_count": null,
      "outputs": [
        {
          "output_type": "stream",
          "name": "stdout",
          "text": [
            "\n",
            "*\n",
            "**\n",
            "***\n",
            "****\n"
          ]
        }
      ]
    },
    {
      "cell_type": "code",
      "source": [
        "a = 0\n",
        "while a<5:\n",
        "  a = a**2\n",
        "  a = a+1\n",
        "  print(a)\n",
        "  #masih dalam percobaan format while untuk data kurang dari 5\n",
        "  "
      ],
      "metadata": {
        "colab": {
          "base_uri": "https://localhost:8080/"
        },
        "id": "ZipbBGo4xlWv",
        "outputId": "d1be0d87-1796-4a14-ed6f-f12d708a2fe0"
      },
      "execution_count": null,
      "outputs": [
        {
          "output_type": "stream",
          "name": "stdout",
          "text": [
            "1\n",
            "2\n",
            "5\n"
          ]
        }
      ]
    },
    {
      "cell_type": "code",
      "source": [
        "a = 0\n",
        "while a<5:\n",
        "  a = a**2\n",
        "  a = a+1\n",
        "print(a)"
      ],
      "metadata": {
        "colab": {
          "base_uri": "https://localhost:8080/"
        },
        "id": "fBdMq8NC0oAO",
        "outputId": "92d3501c-e461-4af7-b736-55243cc29400"
      },
      "execution_count": null,
      "outputs": [
        {
          "output_type": "stream",
          "name": "stdout",
          "text": [
            "5\n"
          ]
        }
      ]
    },
    {
      "cell_type": "markdown",
      "source": [
        "**5.12 List di Python**"
      ],
      "metadata": {
        "id": "svtYaT8m3QLN"
      }
    },
    {
      "cell_type": "code",
      "source": [
        "\n",
        "Buah =['mangga','pisang','rambutan','Durian']\n",
        "print(Buah)\n",
        "\n",
        "print('buah yang nol adalah' +' '+ Buah[0])\n",
        "print('buah yang kesatu adalah' +' '+ Buah[1])\n",
        "print('buah yang kedua adalah' +' '+ Buah[2])\n",
        "print('buah yang ketiga adalah' +' '+ Buah[3])\n",
        "#percobaan penggunaan list diphyton dengan menunggunakan nama nama buah\n",
        "#dengan menunggunakan nilai positif maaka data yg akaan tercetak yakni dari data yang  paling depan\n",
        "\n",
        "\n",
        "\n",
        "\n",
        "\n"
      ],
      "metadata": {
        "colab": {
          "base_uri": "https://localhost:8080/"
        },
        "id": "l47llViG3ZSk",
        "outputId": "b071d07f-31d6-4caa-b659-bf07dfb6dde9"
      },
      "execution_count": null,
      "outputs": [
        {
          "output_type": "stream",
          "name": "stdout",
          "text": [
            "['mangga', 'pisang', 'rambutan', 'Durian']\n",
            "buah yang nol adalah mangga\n",
            "buah yang kesatu adalah pisang\n",
            "buah yang kedua adalah rambutan\n",
            "buah yang ketiga adalah Durian\n"
          ]
        }
      ]
    },
    {
      "cell_type": "code",
      "source": [
        "print(Buah [-2])\n",
        "#percobaan list yang mencetak data dengan nilai negatif maka data yang akan terctak adalah data yang dimulai dari paling belakang"
      ],
      "metadata": {
        "colab": {
          "base_uri": "https://localhost:8080/"
        },
        "id": "51w42uJv4VcO",
        "outputId": "ae97e36f-1888-44e9-b4e0-88c8ab9703e1"
      },
      "execution_count": null,
      "outputs": [
        {
          "output_type": "stream",
          "name": "stdout",
          "text": [
            "rambutan\n"
          ]
        }
      ]
    },
    {
      "cell_type": "code",
      "source": [
        "print('Atmaja tidak suka memakan' +' '+ Buah[0]+ ' '+ 'Matang')\n",
        "#masih dalam list yaitu percobaan dalam penambahan kata kepada suatu data"
      ],
      "metadata": {
        "colab": {
          "base_uri": "https://localhost:8080/"
        },
        "id": "-gbxxXs26FL6",
        "outputId": "99c67676-44e4-4ce4-a286-3e8603c0afce"
      },
      "execution_count": null,
      "outputs": [
        {
          "output_type": "stream",
          "name": "stdout",
          "text": [
            "Atmaja tidak suka memakan mangga Matang\n"
          ]
        }
      ]
    },
    {
      "cell_type": "markdown",
      "source": [
        "**5.13 Metoda List**"
      ],
      "metadata": {
        "id": "78O2k3e47AFy"
      }
    },
    {
      "cell_type": "code",
      "source": [
        "#percobaan metoda list\n",
        "nama = ['kleo','indry','Atmaja']\n",
        "print(nama)\n",
        "print(nama[1])\n",
        "print(nama[0])\n",
        "print(nama[0]+' '+'dan'+' '+nama[1]+' '+ 'mahasiswa program studi matematika Kelas A')\n",
        "#percobaan pertama  saya mencoba mencetak suatu data yang pertama dan data kedua\n",
        "#percobaan kedua ini saya mencoba menggabungkan anata data pertama dan data kedua "
      ],
      "metadata": {
        "colab": {
          "base_uri": "https://localhost:8080/"
        },
        "id": "b5ENbCri7ErZ",
        "outputId": "da123e1c-0375-4207-9317-b69f2d61e182"
      },
      "execution_count": null,
      "outputs": [
        {
          "output_type": "stream",
          "name": "stdout",
          "text": [
            "['kleo', 'indry', 'Atmaja']\n",
            "indry\n",
            "kleo\n",
            "kleo dan indry mahasiswa program studi matematika Kelas A\n"
          ]
        }
      ]
    },
    {
      "cell_type": "code",
      "source": [
        "print('kleo'in nama)\n",
        "print('Atmaja'in nama)\n",
        "print('Ari'in nama)\n",
        "#percobaan dalam menentukan suatu data tersebut merupakan suatu data yang false atau trus\n",
        "#karena pada suatu percobaan diatas ari tidak termasuk dalam suatu list \n",
        "#maka hasilnya jika suatu perintah tersebut tidak terdapat dalam list data tersebiut akan tercetak fasle begitupun sebaliknya"
      ],
      "metadata": {
        "colab": {
          "base_uri": "https://localhost:8080/"
        },
        "id": "X7dc9TQN7fTC",
        "outputId": "d60cc440-908b-4bbe-ddd6-b517d747c87a"
      },
      "execution_count": null,
      "outputs": [
        {
          "output_type": "stream",
          "name": "stdout",
          "text": [
            "True\n",
            "True\n",
            "False\n"
          ]
        }
      ]
    },
    {
      "cell_type": "markdown",
      "source": [
        "**5.14 For loop**"
      ],
      "metadata": {
        "id": "CqH1GX9R9kny"
      }
    },
    {
      "cell_type": "code",
      "source": [
        "#untuk memanggil semua data yang terdapat dalam list \n",
        "buah = ['manggis','durian','salak','jeruk']\n",
        "for jenis in buah:\n",
        "  print(jenis)"
      ],
      "metadata": {
        "colab": {
          "base_uri": "https://localhost:8080/"
        },
        "id": "0dFYQ80U9ZyK",
        "outputId": "bb7e7754-6eb2-41cd-c8f2-d4c6d8e5e898"
      },
      "execution_count": 2,
      "outputs": [
        {
          "output_type": "stream",
          "name": "stdout",
          "text": [
            "manggis\n",
            "durian\n",
            "salak\n",
            "jeruk\n"
          ]
        }
      ]
    },
    {
      "cell_type": "code",
      "source": [
        "A = 0\n",
        "while A<1:\n",
        "  print(buah[0])\n",
        "  A+=1\n",
        "  #percobaan penggunaan while dan for"
      ],
      "metadata": {
        "colab": {
          "base_uri": "https://localhost:8080/"
        },
        "id": "I5l7AUDc9_Eh",
        "outputId": "f2d2a08f-4dc0-481c-b7bf-d7848c9abd41"
      },
      "execution_count": null,
      "outputs": [
        {
          "output_type": "stream",
          "name": "stdout",
          "text": [
            "manggis\n"
          ]
        }
      ]
    },
    {
      "cell_type": "code",
      "source": [
        "A = 0\n",
        "while A<len (buah):\n",
        "  print(buah[A])\n",
        "  A+=2\n",
        "  #percobaan jika suatu data di tambah dua "
      ],
      "metadata": {
        "colab": {
          "base_uri": "https://localhost:8080/"
        },
        "id": "OdM1pT6p-hBE",
        "outputId": "8c21df06-049f-4dd1-9328-d146015f1b73"
      },
      "execution_count": null,
      "outputs": [
        {
          "output_type": "stream",
          "name": "stdout",
          "text": [
            "manggis\n",
            "salak\n"
          ]
        }
      ]
    },
    {
      "cell_type": "markdown",
      "source": [
        "**5.15 Fungsi Range**\n"
      ],
      "metadata": {
        "id": "7cQ2fvQDMhTm"
      }
    },
    {
      "cell_type": "code",
      "source": [
        "#berfungsi untuk suatu yang membangkitkan bilangan berurutan sesuai dengan yang  diinginkan\n",
        "\n",
        "angka = range(10)\n",
        "print (angka)"
      ],
      "metadata": {
        "colab": {
          "base_uri": "https://localhost:8080/"
        },
        "id": "nr4VpbsXMsLv",
        "outputId": "0f34b01e-0dd6-4cac-fecc-3947ab6157f5"
      },
      "execution_count": 5,
      "outputs": [
        {
          "output_type": "stream",
          "name": "stdout",
          "text": [
            "range(0, 10)\n"
          ]
        }
      ]
    },
    {
      "cell_type": "code",
      "source": [
        "#mencarisuatu nilai minimum dan nilai maksimum\n",
        "\n",
        "print(\"Hasil 0utput program pertama :\")\n",
        "data = [1,2,3,4,5,6,10,5,4,3,2,1,-1]\n",
        "terbesar = data[1]\n",
        "\n",
        "#disini merupakan letak perulangan\n",
        "#perulangan for untuk memeriksa setiap nilai apakah lebih besar dari nilai terbesar yang pernah dicatat sebelumnya\n",
        "for i in range(len(data)): \n",
        "    if data[i] > terbesar :\n",
        "        terbesar = data[i]\n",
        "        #bila pengulangan tidak menemukan angka yang lebih besar dari data sebelumnya, maka angka dalam data tersebut = terbesar\n",
        "print(terbesar)\n",
        "\n",
        "\n",
        "#untuk dapat mencari minimum menggunakan logika sebaliknya dari suatu program sebelumnya\n",
        "print(\"\\nHasil output program kedua :\")\n",
        "terkecil = data [0]\n",
        "for i in range(len(data)):\n",
        "    if data[i] < terkecil :\n",
        "        terkecil = data[i]\n",
        "print(terkecil)"
      ],
      "metadata": {
        "colab": {
          "base_uri": "https://localhost:8080/"
        },
        "id": "9JLbB2FkMwAu",
        "outputId": "808629c9-2c23-4b12-f22e-2d7015671e19"
      },
      "execution_count": 6,
      "outputs": [
        {
          "output_type": "stream",
          "name": "stdout",
          "text": [
            "Hasil 0utput program pertama :\n",
            "10\n",
            "\n",
            "Hasil output program kedua :\n",
            "-1\n"
          ]
        }
      ]
    },
    {
      "cell_type": "code",
      "source": [],
      "metadata": {
        "id": "iMv-kSIpNmvt"
      },
      "execution_count": null,
      "outputs": []
    }
  ]
}